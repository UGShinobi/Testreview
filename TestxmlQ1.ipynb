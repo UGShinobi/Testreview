{
 "cells": [
  {
   "cell_type": "code",
   "execution_count": 26,
   "id": "15c8a6e3",
   "metadata": {},
   "outputs": [
    {
     "name": "stdout",
     "output_type": "stream",
     "text": [
      "Enter Date1: 5\n",
      "Enter Date2: 9\n",
      "(2022411)\n",
      "(2022415)\n"
     ]
    }
   ],
   "source": [
    "import xml.etree.ElementTree as ET\n",
    "import datetime\n",
    "from datetime import timedelta\n",
    "\n",
    "\n",
    "\n",
    "x = int(input(\"Enter Date1: \"))\n",
    "a = datetime.datetime.now() + timedelta(x)\n",
    "date1 = (a.year,a.month,a.day)\n",
    "date1 = str(date1)\n",
    "datens1 = date1.replace(', ', \"\")\n",
    "\n",
    "\n",
    "y = int(input(\"Enter Date2: \"))\n",
    "b = datetime.datetime.now() + timedelta(y)\n",
    "date2 = (b.year,b.month,b.day)\n",
    "date2 = str(date2)\n",
    "datens2 = date2.replace(', ', \"\")\n",
    "\n",
    "a_variable = ET.parse(\"test_payload1.xml\")\n",
    "root = a_variable.getroot()\n",
    "\n",
    "for DEPART in root.iter('DEPART'):\n",
    "    DEPART.text = DEPART.text.replace(DEPART.text, datens1)\n",
    "    print(DEPART.text)\n",
    "    \n",
    "for RETURN in root.iter('RETURN'):\n",
    "    RETURN.text = RETURN.text.replace(RETURN.text, datens2)\n",
    "    print(RETURN.text)\n",
    "\n",
    "a_variable.write(\"newtestpayload1.xml\")\n"
   ]
  }
 ],
 "metadata": {
  "kernelspec": {
   "display_name": "Python 3 (ipykernel)",
   "language": "python",
   "name": "python3"
  },
  "language_info": {
   "codemirror_mode": {
    "name": "ipython",
    "version": 3
   },
   "file_extension": ".py",
   "mimetype": "text/x-python",
   "name": "python",
   "nbconvert_exporter": "python",
   "pygments_lexer": "ipython3",
   "version": "3.9.7"
  }
 },
 "nbformat": 4,
 "nbformat_minor": 5
}
