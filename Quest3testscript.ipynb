{
 "cells": [
  {
   "cell_type": "code",
   "execution_count": 5,
   "id": "eddc03b4",
   "metadata": {},
   "outputs": [
    {
     "name": "stdout",
     "output_type": "stream",
     "text": [
      "      timeStamp                 label                responseCode responseMessage   failureMessage            datetime          \n",
      "5   1612879283753             Internal_Quote_Travel       504      Gateway Timeout       NaN       1970-01-01 00:26:52.879283753\n",
      "6   1612879290306  Proxy_test_Services_QuoteRequest       504      Gateway Timeout       NaN       1970-01-01 00:26:52.879290306\n",
      "24  1612879375436  Proxy_test_Services_QuoteRequest       504      Gateway Timeout       NaN       1970-01-01 00:26:52.879375436\n",
      "25  1612879384096             Internal_Quote_Travel       504      Gateway Timeout       NaN       1970-01-01 00:26:52.879384096      timeStamp                 label                 responseCode  responseMessage   failureMessage            datetime          \n",
      "4  1612879283699  Direct_test_Services_QuoteRequest       504      Gateway Time-out       NaN       1970-01-01 00:26:52.879283699\n"
     ]
    },
    {
     "name": "stderr",
     "output_type": "stream",
     "text": [
      "C:\\Users\\UGSHIN~1\\AppData\\Local\\Temp/ipykernel_16968/4210332812.py:15: SettingWithCopyWarning: \n",
      "A value is trying to be set on a copy of a slice from a DataFrame.\n",
      "Try using .loc[row_indexer,col_indexer] = value instead\n",
      "\n",
      "See the caveats in the documentation: https://pandas.pydata.org/pandas-docs/stable/user_guide/indexing.html#returning-a-view-versus-a-copy\n",
      "  drf['datetime'] = pd.to_datetime(drf['timeStamp'], unit= 'ns')\n"
     ]
    }
   ],
   "source": [
    "import pandas as pd\n",
    "import numpy as np\n",
    "import datetime\n",
    "\n",
    "df = pd.read_csv(\"jmeter_log1.jtl\", usecols = ['label', 'responseCode', 'responseMessage', 'failureMessage', 'timeStamp'])\n",
    "\n",
    "pd.set_option('display.max_rows', None)\n",
    "pd.set_option('display.max_columns', None)\n",
    "pd.set_option('display.width', 800)\n",
    "pd.set_option('display.colheader_justify', 'center')\n",
    "pd.set_option('display.precision', 10)\n",
    "pd.set_option('display.colheader_justify', 'center')\n",
    "\n",
    "drf=df[df[\"responseMessage\"].str.contains(\"Gateway Time-out\")] \n",
    "drf['datetime'] = pd.to_datetime(drf['timeStamp'], unit= 'ns')\n",
    "\n",
    "df=df[df[\"responseMessage\"].str.contains(\"Gateway Timeout\")] \n",
    "df['datetime'] = pd.to_datetime(df['timeStamp'], unit= 'ns')\n",
    "    \n",
    "print(df, drf)\n",
    "\n"
   ]
  },
  {
   "cell_type": "code",
   "execution_count": null,
   "id": "18feac90",
   "metadata": {},
   "outputs": [],
   "source": []
  },
  {
   "cell_type": "code",
   "execution_count": null,
   "id": "44117c94",
   "metadata": {},
   "outputs": [],
   "source": []
  }
 ],
 "metadata": {
  "kernelspec": {
   "display_name": "Python 3 (ipykernel)",
   "language": "python",
   "name": "python3"
  },
  "language_info": {
   "codemirror_mode": {
    "name": "ipython",
    "version": 3
   },
   "file_extension": ".py",
   "mimetype": "text/x-python",
   "name": "python",
   "nbconvert_exporter": "python",
   "pygments_lexer": "ipython3",
   "version": "3.9.7"
  }
 },
 "nbformat": 4,
 "nbformat_minor": 5
}
