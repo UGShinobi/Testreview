{
 "cells": [
  {
   "cell_type": "code",
   "execution_count": 1,
   "id": "a4b3355d",
   "metadata": {},
   "outputs": [
    {
     "name": "stdout",
     "output_type": "stream",
     "text": [
      "{'planselect_1': 'test11', 'retdt': '2019-04-10', 'appdate': '2019-04-02', 'statecode': 'CA', 'deptdt': '2019-04-09'}\n",
      "Enter: inParams\n",
      "{'spreadsheetName': 'ABC.xls', 'outParams': ['dateeff', 'dateterm', 'coverageresult', 'calcdescr', 'errorchk', 'planresult', 'covgsummary', 'prem'], 'sessionId': None}\n"
     ]
    }
   ],
   "source": [
    "import json\n",
    "data = open('test_payload.json', 'r')\n",
    "json_data = json.load(data)\n",
    "data_lines = dict(json_data)\n",
    "\n",
    "print(data_lines[\"inParams\"])\n",
    "\n",
    "d = input(\"Enter: \")\n",
    "data_lines.pop(d)\n",
    "\n",
    "jsonfile = open(\"new_test_payload.json\", \"w\")\n",
    "jsonString = json.dump(data_lines, jsonfile)\n",
    "#jsonfile.write(jsonString)\n",
    "jsonfile.close()\n",
    "print(data_lines)"
   ]
  },
  {
   "cell_type": "code",
   "execution_count": null,
   "id": "a996b96e",
   "metadata": {},
   "outputs": [],
   "source": []
  }
 ],
 "metadata": {
  "kernelspec": {
   "display_name": "Python 3 (ipykernel)",
   "language": "python",
   "name": "python3"
  },
  "language_info": {
   "codemirror_mode": {
    "name": "ipython",
    "version": 3
   },
   "file_extension": ".py",
   "mimetype": "text/x-python",
   "name": "python",
   "nbconvert_exporter": "python",
   "pygments_lexer": "ipython3",
   "version": "3.9.7"
  }
 },
 "nbformat": 4,
 "nbformat_minor": 5
}
